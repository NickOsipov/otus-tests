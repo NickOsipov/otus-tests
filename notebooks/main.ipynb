{
 "cells": [
  {
   "cell_type": "code",
   "execution_count": 1,
   "id": "e424122c",
   "metadata": {},
   "outputs": [
    {
     "name": "stdout",
     "output_type": "stream",
     "text": [
      "/home/ono/otus/ml-basic/otus-tests\n"
     ]
    }
   ],
   "source": [
    "import os\n",
    "os.chdir(\"..\")\n",
    "print(os.getcwd())"
   ]
  },
  {
   "cell_type": "markdown",
   "id": "2053f974",
   "metadata": {},
   "source": [
    "# Тесты"
   ]
  },
  {
   "cell_type": "markdown",
   "id": "24e2887a",
   "metadata": {},
   "source": [
    "## 1. Введение в тестирование"
   ]
  },
  {
   "cell_type": "markdown",
   "id": "a5f6712e",
   "metadata": {},
   "source": [
    "### 1.1 Что такое тесты и зачем они нужны"
   ]
  },
  {
   "cell_type": "markdown",
   "id": "1d1819f4",
   "metadata": {},
   "source": [
    "\n",
    "**Тесты** — это программы, которые проверяют корректность работы другого кода.\n",
    "\n",
    "Вместо ручной проверки: «Запускаю → смотрю результат → все ли верно?» мы пишем код, который **автоматически** проверяет, что наша программа делает то, что должна.\n",
    "\n",
    "**Зачем нужны тесты:**\n",
    "\n",
    "* **Уверенность в коде**: подтверждают, что программа работает как ожидается\n",
    "* **Документация**: тесты показывают, как должен работать ваш код (ожидаемое поведение)\n",
    "* **Защита от регрессий**: обнаруживают, когда изменения ломают существующую функциональность\n",
    "* **Упрощение рефакторинга**: позволяют безопасно улучшать код, сразу понимая, что вы ничего не сломали\n",
    "* **Улучшение дизайна**: написание тестируемого кода часто ведет к лучшей архитектуре\n",
    "\n",
    "> 🔍 **Аналогия:** Представьте, что вы разрабатываете формулу лекарства. Без тестов вы бы давали каждую версию пациентам и наблюдали за результатами. С тестами вы проверяете каждый компонент формулы в лаборатории и убеждаетесь в безопасности, прежде чем давать лекарство людям.\n"
   ]
  },
  {
   "cell_type": "markdown",
   "id": "f4e250bb",
   "metadata": {},
   "source": [
    "### 1.2 Почему тестирование важно в контексте ML"
   ]
  },
  {
   "cell_type": "markdown",
   "id": "749b74b9",
   "metadata": {},
   "source": [
    "Машинное обучение добавляет особые сложности, делая тестирование еще более важным:\n",
    "\n",
    "* **Стохастичность**: алгоритмы ML часто содержат случайность, что усложняет тестирование\n",
    "* **Обработка данных**: ошибки в предобработке данных могут оставаться незамеченными, но критически влиять на модель\n",
    "* **Сложность моделей**: сложно визуально проверить правильность работы алгоритма\n",
    "* **Последствия ошибок**: модели принимают решения, влияющие на людей; ошибки могут иметь серьезные последствия\n",
    "* **Воспроизводимость**: тесты помогают убедиться, что эксперименты можно воспроизвести\n",
    "\n",
    "**Конкретные примеры из ML, требующие тестирования:**\n",
    "- Корректность сплиттеров обучающей/тестовой выборки\n",
    "- Правильность масштабирования фичей\n",
    "- Корректность метрик оценки качества\n",
    "- Работа пайплайнов обработки данных\n"
   ]
  },
  {
   "cell_type": "markdown",
   "id": "c18f8106",
   "metadata": {},
   "source": [
    "### 1.3 Виды тестов\n",
    "\n",
    "| Тип теста | Что тестирует | Масштаб | Пример в ML-контексте |\n",
    "|-----------|---------------|---------|------------------------|\n",
    "| **Модульные** (unit tests) | Отдельные функции или классы | Наименьший | Тест, проверяющий, правильно ли функция `normalize` масштабирует данные |\n",
    "| **Интеграционные** (integration tests) | Взаимодействие между компонентами | Средний | Тест, проверяющий, что предобработка + обучение + валидация работают вместе |\n",
    "| **Системные** (system tests) | Всю систему целиком | Большой | Тест полного пайплайна от загрузки данных до выдачи предсказаний |\n",
    "| **Функциональные** (functional tests) | Соответствие требованиям | Разный | Тест, проверяющий, что точность модели не ниже заданного порога |\n",
    "\n",
    "**На этом занятии** мы сосредоточимся на модульных тестах, так как они:\n",
    "- Самые быстрые в выполнении\n",
    "- Позволяют точно локализовать проблему\n",
    "- Наиболее полезны при разработке отдельных компонентов\n",
    "- Являются основой для других видов тестирования"
   ]
  },
  {
   "cell_type": "markdown",
   "id": "6a10d115",
   "metadata": {},
   "source": [
    "**Пример модульного теста:**"
   ]
  },
  {
   "cell_type": "code",
   "execution_count": 6,
   "id": "8692ace7",
   "metadata": {},
   "outputs": [],
   "source": [
    "def add(a, b):\n",
    "    return a + b\n",
    "\n",
    "def test_add():\n",
    "    assert add(2, 3) == 5\n",
    "    assert add(-1, 1) == 0\n",
    "    assert add(0, 0) == 0\n"
   ]
  },
  {
   "cell_type": "code",
   "execution_count": 7,
   "id": "9003f5c7",
   "metadata": {},
   "outputs": [],
   "source": [
    "test_add()"
   ]
  },
  {
   "cell_type": "markdown",
   "id": "ded9f469",
   "metadata": {},
   "source": [
    "`assert` - это оператор, который проверяет, что условие истинно. Если оно ложно, программа возбуждает исключение `AssertionError`. Это позволяет нам проверить, что функция `add` работает правильно."
   ]
  },
  {
   "cell_type": "markdown",
   "id": "718548c4",
   "metadata": {},
   "source": [
    "**Разработка тестов**\n",
    "\n",
    "Давайте создадим простую структуру Python проекта c исходным кодом и тестами, чтобы в дальнейшем удобно собирать модули с кодом и запускать тесты.\n",
    "\n",
    "Структура проекта:\n",
    "\n",
    "```py\n",
    "otus-tests/\n",
    "├── notebooks           # ноутбуки\n",
    "├── src                 # исходный код\n",
    "│   └── math.py         # модуль с функциями\n",
    "├── tests               # тесты\n",
    "│   └── test_math.py    # тесты для math.py\n",
    "└── requirements.txt    # требования для pip\n",
    "```\n",
    "\n",
    "Далее будем добавлять в проект новые модули и тесты к ним, чтобы продемонстрировать различные подходы к тестированию."
   ]
  },
  {
   "cell_type": "markdown",
   "id": "381b692a",
   "metadata": {},
   "source": [
    "### 1.4 Принципы тестирования в Python"
   ]
  },
  {
   "cell_type": "markdown",
   "id": "d6ad1dd5",
   "metadata": {},
   "source": [
    "\n",
    "Python предлагает несколько подходов к тестированию, но есть фундаментальные принципы, общие для всех:\n",
    "\n",
    "* **Изоляция** — тесты должны быть независимыми друг от друга\n",
    "* **Воспроизводимость** — каждый запуск должен давать одинаковый результат\n",
    "* **Автоматизация** — тесты должны запускаться без ручного вмешательства\n",
    "* **Быстрое выполнение** — тесты должны быть быстрыми, чтобы их часто запускали\n",
    "* **Читаемость** — из имен тестов должно быть понятно, что и как тестируется\n",
    "\n",
    "**Структура хорошего теста** обычно следует шаблону \"AAA\":\n",
    "\n",
    "1. **Arrange** — подготовка данных и объектов\n",
    "2. **Act** — выполнение тестируемого кода\n",
    "3. **Assert** — проверка результатов выполнения\n",
    "\n",
    "\n"
   ]
  },
  {
   "cell_type": "markdown",
   "id": "31cf5209",
   "metadata": {},
   "source": [
    "**Пример теста по шаблону AAA**"
   ]
  },
  {
   "cell_type": "code",
   "execution_count": 12,
   "id": "01981697",
   "metadata": {},
   "outputs": [],
   "source": [
    "def normalize(data):\n",
    "    min_val = min(data)\n",
    "    max_val = max(data)\n",
    "    return [(x - min_val) / (max_val - min_val) for x in data]\n",
    "\n",
    "def test_normalize_positive_values():\n",
    "    # Arrange\n",
    "    data = [1, 2, 3, 4, 5]\n",
    "    \n",
    "    # Act\n",
    "    normalized = normalize(data)\n",
    "    \n",
    "    # Assert\n",
    "    assert min(normalized) == 0\n",
    "    assert max(normalized) == 1"
   ]
  },
  {
   "cell_type": "code",
   "execution_count": 13,
   "id": "e2d77535",
   "metadata": {},
   "outputs": [],
   "source": [
    "test_normalize_positive_values()"
   ]
  },
  {
   "cell_type": "markdown",
   "id": "98cc87a2",
   "metadata": {},
   "source": [
    "**Инструменты для тестирования в Python:**\n",
    "\n",
    "* Встроенная библиотека `unittest`\n",
    "* Популярный фреймворк `pytest`\n",
    "* Дополнительные инструменты: `pytest-cov` (для расчета покрытия кода тестами)\n",
    "\n",
    "В следующих пунктах мы рассмотрим конкретные примеры использования `unittest` и `pytest` для тестирования ML-компонентов."
   ]
  },
  {
   "cell_type": "markdown",
   "id": "d1b66dea",
   "metadata": {},
   "source": [
    "## 2. Тестирование с unittest"
   ]
  },
  {
   "cell_type": "markdown",
   "id": "60261809",
   "metadata": {},
   "source": [
    "### 2.1 Основные концепции unittest"
   ]
  },
  {
   "cell_type": "markdown",
   "id": "02b188ba",
   "metadata": {},
   "source": [
    "`unittest` — это встроенная в Python библиотека для написания и запуска тестов, основанная на популярном фреймворке JUnit из Java.\n",
    "\n",
    "**Ключевые концепции:**\n",
    "\n",
    "* **TestCase** — базовый класс для создания тестов. Каждый тест является методом класса.\n",
    "* **assert-методы** — специальные методы для проверки условий (например, `assertEqual`, `assertTrue`).\n",
    "* **setUp/tearDown** — методы для инициализации и очистки состояния перед/после каждого теста.\n",
    "* **Test Suite** — коллекция тестов, которые запускаются вместе.\n",
    "* **Test Runner** — компонент, который запускает тесты и сообщает о результатах.\n"
   ]
  },
  {
   "cell_type": "markdown",
   "id": "0ace8621",
   "metadata": {},
   "source": [
    "**Структура типичного unittest-файла:**"
   ]
  },
  {
   "cell_type": "code",
   "execution_count": null,
   "id": "68802d06",
   "metadata": {},
   "outputs": [],
   "source": [
    "import unittest\n",
    "\n",
    "class TestSomeFunctionality(unittest.TestCase):  # Имя обычно начинается с \"Test\"\n",
    "    \n",
    "    def setUp(self):\n",
    "        # Подготовка окружения перед каждым тестом\n",
    "        pass\n",
    "        \n",
    "    def tearDown(self):\n",
    "        # Очистка окружения после каждого теста\n",
    "        pass\n",
    "        \n",
    "    def test_some_feature(self):  # Имя метода начинается с \"test_\"\n",
    "        # Тестовый код\n",
    "        expected = None                     # Ожидаемое значение\n",
    "        actual = None                       # Фактическое значение\n",
    "        self.assertEqual(expected, actual)  # Проверка на равенство\n",
    "    "
   ]
  },
  {
   "cell_type": "markdown",
   "id": "cc7ac774",
   "metadata": {},
   "source": [
    "### 2.2 Как писать тесты с unittest"
   ]
  },
  {
   "cell_type": "markdown",
   "id": "f18c4a44",
   "metadata": {},
   "source": [
    "**Шаг 1: Создаем класс, наследующийся от `unittest.TestCase`**"
   ]
  },
  {
   "cell_type": "code",
   "execution_count": null,
   "id": "622a5b0d",
   "metadata": {},
   "outputs": [],
   "source": [
    "import unittest\n",
    "\n",
    "class TestNormalization(unittest.TestCase):\n",
    "    pass"
   ]
  },
  {
   "cell_type": "markdown",
   "id": "4415eced",
   "metadata": {},
   "source": [
    "**Шаг 2: Добавляем тестовые методы**\n",
    "\n",
    "Каждый тестовый метод должен:\n",
    "- Начинаться с префикса `test_`\n",
    "- Проверять один аспект функциональности\n",
    "- Иметь говорящее название"
   ]
  },
  {
   "cell_type": "code",
   "execution_count": null,
   "id": "9ef86bc1",
   "metadata": {},
   "outputs": [],
   "source": [
    "import unittest\n",
    "\n",
    "class TestNormalization(unittest.TestCase):\n",
    "    pass\n",
    "\n",
    "    def test_normalize_positive_values(self):\n",
    "        # Тестовый код\n",
    "        pass\n",
    "    \n",
    "    def test_normalize_with_zeros(self):\n",
    "        # Тестовый код\n",
    "        pass"
   ]
  },
  {
   "cell_type": "markdown",
   "id": "38f6e55e",
   "metadata": {},
   "source": [
    "**Шаг 3: Используем assert-методы для проверок**\n",
    "\n",
    "`unittest` имеет множество assert-методов:\n",
    "\n",
    "| Метод | Проверяет, что... |\n",
    "|-------|-------------------|\n",
    "| `assertEqual(a, b)` | a == b |\n",
    "| `assertNotEqual(a, b)` | a != b |\n",
    "| `assertTrue(x)` | bool(x) is True |\n",
    "| `assertFalse(x)` | bool(x) is False |\n",
    "| `assertIn(a, b)` | a in b |\n",
    "| `assertRaises(exc, func, *args)` | func(*args) вызывает исключение exc |\n",
    "| `assertAlmostEqual(a, b)` | round(a-b, 7) == 0 (для чисел с плавающей точкой) |"
   ]
  },
  {
   "cell_type": "code",
   "execution_count": null,
   "id": "8a338930",
   "metadata": {},
   "outputs": [],
   "source": [
    "def test_normalize_positive_values(self):\n",
    "    data = [1, 2, 3, 4, 5]\n",
    "    normalized = normalize(data)\n",
    "    \n",
    "    self.assertEqual(min(normalized), 0)\n",
    "    self.assertEqual(max(normalized), 1)\n",
    "    self.assertAlmostEqual(normalized[2], 0.5)  # Для чисел с плавающей точкой"
   ]
  },
  {
   "cell_type": "markdown",
   "id": "ab301622",
   "metadata": {},
   "source": [
    "**Шаг 4: Настраиваем и очищаем тестовое окружение (если необходимо)**\n",
    "\n"
   ]
  },
  {
   "cell_type": "code",
   "execution_count": null,
   "id": "2fcfd38a",
   "metadata": {},
   "outputs": [],
   "source": [
    "def setUp(self):\n",
    "    # Выполняется перед каждым тестовым методом\n",
    "    self.test_data = [1, 2, 3, 4, 5]\n",
    "    self.empty_data = []\n",
    "    \n",
    "def tearDown(self):\n",
    "    # Выполняется после каждого тестового метода\n",
    "    # Например, удаление временных файлов\n",
    "    pass"
   ]
  },
  {
   "cell_type": "markdown",
   "id": "6a808336",
   "metadata": {},
   "source": [
    "### 2.3 Примеры тестирования функций предобработки данных"
   ]
  },
  {
   "cell_type": "markdown",
   "id": "08eb54d8",
   "metadata": {},
   "source": [
    "Давайте создадим и протестируем простую функцию для минимакс-нормализации данных, которая часто используется в ML\n",
    "\n",
    "Создадим файл `src/preprocessing.py` с функцией `min_max_normalize`, которая будет нормализовать данные."
   ]
  },
  {
   "cell_type": "code",
   "execution_count": 14,
   "id": "b85da412",
   "metadata": {},
   "outputs": [],
   "source": [
    "\"\"\"\n",
    "Script: preprocessing.py\n",
    "\"\"\"\n",
    "\n",
    "def min_max_normalize(data):\n",
    "    \"\"\"\n",
    "    Нормализует данные в диапазон [0, 1] по формуле:\n",
    "    x_normalized = (x - min(data)) / (max(data) - min(data))\n",
    "    \n",
    "    Parameters\n",
    "    ----------\n",
    "    data : list\n",
    "        Список чисел для нормализации\n",
    "        \n",
    "    Returns\n",
    "    -------\n",
    "    list : Нормализованные данные\n",
    "    \"\"\"\n",
    "    if not data:\n",
    "        return []\n",
    "        \n",
    "    min_val = min(data)\n",
    "    max_val = max(data)\n",
    "    \n",
    "    if min_val == max_val:\n",
    "        return [0.5] * len(data)  # Особый случай, когда все значения одинаковые\n",
    "        \n",
    "    return [(x - min_val) / (max_val - min_val) for x in data]"
   ]
  },
  {
   "cell_type": "markdown",
   "id": "c078cf10",
   "metadata": {},
   "source": [
    "**Теперь напишем тесты для этой функции**\n",
    "\n",
    "Создадим файл `tests/test_data.py` и добавим туда тесты для функции `min_max_normalize`.\n"
   ]
  },
  {
   "cell_type": "code",
   "execution_count": 15,
   "id": "b8b8e038",
   "metadata": {},
   "outputs": [],
   "source": [
    "\"\"\"\n",
    "Script: test_data.py\n",
    "\"\"\"\n",
    "\n",
    "import unittest\n",
    "# from src.data import min_max_normalize\n",
    "\n",
    "class TestMinMaxNormalize(unittest.TestCase):\n",
    "    \n",
    "    def test_normalize_positive_values(self):\n",
    "        data = [1, 2, 3, 4, 5]\n",
    "        normalized = min_max_normalize(data)\n",
    "        \n",
    "        self.assertEqual(min(normalized), 0)\n",
    "        self.assertEqual(max(normalized), 1)\n",
    "        self.assertEqual(normalized[1], 0.25)  # (2-1)/(5-1) = 0.25\n",
    "        self.assertEqual(normalized[2], 0.5)   # (3-1)/(5-1) = 0.5\n",
    "        \n",
    "    def test_normalize_negative_values(self):\n",
    "        data = [-10, -5, 0, 5, 10]\n",
    "        normalized = min_max_normalize(data)\n",
    "        \n",
    "        self.assertEqual(min(normalized), 0)\n",
    "        self.assertEqual(max(normalized), 1)\n",
    "        self.assertEqual(normalized[1], 0.2)  # (-5-(-10))/(10-(-10)) = 0.25\n",
    "        self.assertEqual(normalized[3], 0.75)  # (5-(-10))/(10-(-10)) = 0.75\n",
    "        \n",
    "    def test_normalize_same_values(self):\n",
    "        data = [7, 7, 7, 7]\n",
    "        normalized = min_max_normalize(data)\n",
    "        \n",
    "        self.assertEqual(normalized, [0.5, 0.5, 0.5, 0.5])\n",
    "        \n",
    "    def test_normalize_empty_list(self):\n",
    "        data = []\n",
    "        normalized = min_max_normalize(data)\n",
    "        \n",
    "        self.assertEqual(normalized, [])\n",
    "        \n",
    "    def test_normalize_single_value(self):\n",
    "        data = [42]\n",
    "        normalized = min_max_normalize(data)\n",
    "        \n",
    "        self.assertEqual(normalized, [0.5])  # Особый случай - один элемент"
   ]
  },
  {
   "cell_type": "markdown",
   "id": "0f6317a8",
   "metadata": {},
   "source": [
    "**Важные нюансы тестирования:**\n",
    "\n",
    "1. Учитываем граничные случаи (пустой список, один элемент, все элементы одинаковые)\n",
    "2. Проверяем различные входные значения (положительные, отрицательные числа)\n",
    "3. Проверяем как значения в начале диапазона (0), так и в конце (1), и в середине"
   ]
  },
  {
   "cell_type": "markdown",
   "id": "962268c6",
   "metadata": {},
   "source": [
    "### 2.4 Запуск тестов и интерпретация результатов"
   ]
  },
  {
   "cell_type": "markdown",
   "id": "dd5c35dd",
   "metadata": {},
   "source": [
    "**Способы запуска unittest:**\n",
    "\n",
    "1. **Из командной строки** (вызов Python с параметром `-m unittest`):\n",
    "```bash\n",
    "python -m unittest test_module.py\n",
    "```\n"
   ]
  },
  {
   "cell_type": "markdown",
   "id": "e94d16ba",
   "metadata": {},
   "source": [
    "2. **Из скрипта** (добавив блок запуска в конец файла):"
   ]
  },
  {
   "cell_type": "code",
   "execution_count": null,
   "id": "be610b97",
   "metadata": {},
   "outputs": [],
   "source": [
    "if __name__ == '__main__':\n",
    "    unittest.main()"
   ]
  },
  {
   "cell_type": "markdown",
   "id": "0c5b9112",
   "metadata": {},
   "source": [
    "3. **Из Jupyter Notebook** (запуская тесты вручную):"
   ]
  },
  {
   "cell_type": "code",
   "execution_count": 16,
   "id": "ead6f660",
   "metadata": {},
   "outputs": [
    {
     "name": "stderr",
     "output_type": "stream",
     "text": [
      ".F...\n",
      "======================================================================\n",
      "FAIL: test_normalize_negative_values (__main__.TestMinMaxNormalize.test_normalize_negative_values)\n",
      "----------------------------------------------------------------------\n",
      "Traceback (most recent call last):\n",
      "  File \"/tmp/ipykernel_54158/1144260619.py\", line 25, in test_normalize_negative_values\n",
      "    self.assertEqual(normalized[1], 0.2)  # (-5-(-10))/(10-(-10)) = 0.25\n",
      "    ^^^^^^^^^^^^^^^^^^^^^^^^^^^^^^^^^^^^\n",
      "AssertionError: 0.25 != 0.2\n",
      "\n",
      "----------------------------------------------------------------------\n",
      "Ran 5 tests in 0.008s\n",
      "\n",
      "FAILED (failures=1)\n"
     ]
    },
    {
     "data": {
      "text/plain": [
       "<unittest.runner.TextTestResult run=5 errors=0 failures=1>"
      ]
     },
     "execution_count": 16,
     "metadata": {},
     "output_type": "execute_result"
    }
   ],
   "source": [
    "test_suite = unittest.TestLoader().loadTestsFromTestCase(TestMinMaxNormalize)\n",
    "unittest.TextTestRunner().run(test_suite)"
   ]
  },
  {
   "cell_type": "markdown",
   "id": "b1bc532f",
   "metadata": {},
   "source": [
    "**Интерпретация результатов:**\n",
    "\n",
    "При запуске тестов вы получите вывод, показывающий:\n",
    "\n",
    "- Сколько тестов было запущено\n",
    "- Сколько прошло успешно (обозначены точкой `.`)\n",
    "- Сколько провалилось (обозначены `F`) или вызвало ошибку (обозначены `E`)\n",
    "- Детали ошибок, если они есть"
   ]
  },
  {
   "cell_type": "markdown",
   "id": "7cd57bb1",
   "metadata": {},
   "source": [
    "**Пример успешного вывода:**\n",
    "\n",
    "```txt\n",
    ".....\n",
    "----------------------------------------------------------------------\n",
    "Ran 5 tests in 0.004s\n",
    "\n",
    "OK\n",
    "```"
   ]
  },
  {
   "cell_type": "markdown",
   "id": "4b0e0ef4",
   "metadata": {},
   "source": [
    "**Пример вывода при ошибке:**\n",
    "```txt\n",
    ".F...\n",
    "======================================================================\n",
    "FAIL: test_normalize_negative_values (__main__.TestMinMaxNormalize.test_normalize_negative_values)\n",
    "----------------------------------------------------------------------\n",
    "Traceback (most recent call last):\n",
    "  File \"/tmp/ipykernel_18281/2936257192.py\", line 21, in test_normalize_negative_values\n",
    "    self.assertEqual(normalized[1], 0.2)  # (-5-(-10))/(10-(-10)) = 0.25\n",
    "    ^^^^^^^^^^^^^^^^^^^^^^^^^^^^^^^^^^^^\n",
    "AssertionError: 0.25 != 0.2\n",
    "\n",
    "----------------------------------------------------------------------\n",
    "Ran 5 tests in 0.009s\n",
    "\n",
    "FAILED (failures=1)\n",
    "```\n",
    "\n",
    "Это значит, что один из тестов не прошел, и разница между ожидаемым и фактическим значением показана в выводе."
   ]
  },
  {
   "cell_type": "markdown",
   "id": "17e3cfe3",
   "metadata": {},
   "source": [
    "**Отладка тестов:**\n",
    "\n",
    "Когда тест не прошел, выполните шаги:\n",
    "1. Проверьте сообщение об ошибке, чтобы понять, какая проверка не сработала\n",
    "2. Добавьте отладочную печать перед проверками, если необходимо\n",
    "3. Проверьте правильность самого теста (иногда ошибка в тесте, а не в тестируемом коде)"
   ]
  },
  {
   "cell_type": "code",
   "execution_count": null,
   "id": "76e9b8a5",
   "metadata": {},
   "outputs": [],
   "source": [
    "def test_normalize_negative_values(self):\n",
    "    data = [-10, -5, 0, 5, 10]\n",
    "    normalized = min_max_normalize(data)\n",
    "    \n",
    "    print(f\"Normalized data: {normalized}\")  # Отладочная печать\n",
    "    self.assertEqual(min(normalized), 0)\n",
    "    self.assertEqual(max(normalized), 1)\n",
    "    self.assertEqual(normalized[1], 0.25)"
   ]
  },
  {
   "cell_type": "markdown",
   "id": "d609723e",
   "metadata": {},
   "source": [
    "`unittest` — это мощный инструмент для написания тестов, и базовое понимание его работы необходимо для любого Python-разработчика, включая специалистов по машинному обучению."
   ]
  },
  {
   "cell_type": "markdown",
   "id": "128d0190",
   "metadata": {},
   "source": [
    "## 3. Тестирование с pytest\n"
   ]
  },
  {
   "cell_type": "markdown",
   "id": "e3c2eeed",
   "metadata": {},
   "source": [
    "### 3.1 Почему pytest? Сравнение с unittest"
   ]
  },
  {
   "cell_type": "markdown",
   "id": "6c3dced3",
   "metadata": {},
   "source": [
    "\n",
    "**pytest** — это популярный фреймворк для тестирования, который предлагает более современный и удобный подход по сравнению со встроенным unittest.\n",
    "\n",
    "**Преимущества pytest:**\n",
    "\n",
    "| Особенность | pytest | unittest |\n",
    "|-------------|--------|----------|\n",
    "| **Синтаксис** | Более простой и лаконичный | Более многословный (нужны классы) |\n",
    "| **Проверки (assertions)** | Стандартные Python-утверждения (`assert x == y`) | Специальные методы (`self.assertEqual(x, y)`) |\n",
    "| **Сообщения об ошибках** | Подробный анализ причин сбоя с контекстом | Менее информативные сообщения |\n",
    "| **Фикстуры** | Мощные декларативные фикстуры с управлением областью видимости | Более ограниченные `setUp`/`tearDown` |\n",
    "| **Параметризация** | Встроенная, очень простая | Требует дополнительного кода |\n",
    "| **Плагины** | Богатая экосистема расширений | Ограниченные возможности расширения |\n",
    "\n",
    "**Когда выбирать pytest:**\n",
    "- Для новых проектов\n",
    "- Когда важна читаемость тестов\n",
    "- Когда нужна гибкость и мощные инструменты\n",
    "\n",
    "**Когда оставаться с unittest:**\n",
    "- Для поддержки старого кода, уже написанного с unittest\n",
    "- Когда нужна только стандартная библиотека Python (без сторонних зависимостей)"
   ]
  },
  {
   "cell_type": "markdown",
   "id": "0dcccfa4",
   "metadata": {},
   "source": [
    "### 3.2 Основы pytest"
   ]
  },
  {
   "cell_type": "markdown",
   "id": "aa8e9634",
   "metadata": {},
   "source": [
    "**Установка pytest** (в отличие от unittest, это сторонний пакет):\n",
    "\n",
    "```bash\n",
    "pip install pytest\n",
    "```\n",
    "\n",
    "**Можно попробовать запустить pytest на наших тестах:**\n",
    "\n",
    "```bash\n",
    "pytest tests/test_math.py\n",
    "```\n"
   ]
  },
  {
   "cell_type": "markdown",
   "id": "2d43cfbb",
   "metadata": {},
   "source": [
    "**Основные концепции pytest:**\n",
    "\n",
    "1. **Имена тестовых файлов** должны начинаться с `test_` или заканчиваться на `_test.py`\n",
    "2. **Имена тестовых функций** должны начинаться с `test_`\n",
    "3. **Проверки** используют обычный оператор `assert` Python\n",
    "4. **Фикстуры** объявляются с помощью декоратора `@pytest.fixture`\n",
    "5. **Параметризация** достигается с помощью декоратора `@pytest.mark.parametrize`\n"
   ]
  },
  {
   "cell_type": "markdown",
   "id": "1a72501b",
   "metadata": {},
   "source": [
    "**Пример теста для нашей функции нормализации:**\n",
    "\n",
    "Создадим `tests/test_normalization.py`\n"
   ]
  },
  {
   "cell_type": "code",
   "execution_count": null,
   "id": "bb999018",
   "metadata": {},
   "outputs": [],
   "source": [
    "\"\"\"\n",
    "Script: test_normalization.py\n",
    "\"\"\"\n",
    "\n",
    "# from src.data import min_max_normalize\n",
    "\n",
    "def test_normalize_positive_values():\n",
    "    data = [1, 2, 3, 4, 5]\n",
    "    normalized = min_max_normalize(data)\n",
    "    \n",
    "    assert min(normalized) == 0\n",
    "    assert max(normalized) == 1\n",
    "    assert normalized[1] == 0.25\n",
    "    assert normalized[2] == 0.5\n",
    "\n",
    "def test_normalize_empty_list():\n",
    "    assert min_max_normalize([]) == []"
   ]
  },
  {
   "cell_type": "markdown",
   "id": "90fd6dd1",
   "metadata": {},
   "source": [
    "**Сравните с unittest:**\n",
    "- Нет необходимости в классе\n",
    "- Нет методов `self.assertEqual` — используем обычный `assert`\n",
    "- Код становится более читаемым и компактным\n"
   ]
  },
  {
   "cell_type": "markdown",
   "id": "7eb7ea48",
   "metadata": {},
   "source": [
    "### 3.3 Примеры тестов функций в контексте ML\n",
    "\n",
    "Давайте рассмотрим тестирование двух простых функций, которые часто используются в задачах машинного обучения:\n",
    "1. Функция загрузки данных из CSV-файла\n",
    "2. Функция разделения данных на две части"
   ]
  },
  {
   "cell_type": "markdown",
   "id": "94a5d543",
   "metadata": {},
   "source": [
    "**Функция для загрузки данных из CSV:**\n"
   ]
  },
  {
   "cell_type": "code",
   "execution_count": 17,
   "id": "486bfa4b",
   "metadata": {},
   "outputs": [],
   "source": [
    "\"\"\"\n",
    "Script: data.py\n",
    "\"\"\"\n",
    "\n",
    "\n",
    "def load_csv_data(filepath: str, header: bool=True) -> dict:\n",
    "    \"\"\"\n",
    "    Загружает данные из CSV-файла.\n",
    "    \n",
    "    Parameters\n",
    "    ----------\n",
    "    filepath : str\n",
    "        Путь к файлу CSV.\n",
    "    header : bool, optional\n",
    "        Флаг, указывающий, содержит ли файл заголовок, по умолчанию True.\n",
    "    \n",
    "    Returns\n",
    "    -------\n",
    "    list of list\n",
    "        Данные из CSV в виде списка списков.\n",
    "    list or None\n",
    "        Список заголовков, если header=True, иначе None.\n",
    "    \"\"\"\n",
    "    data = []\n",
    "    header_data = None\n",
    "    \n",
    "    with open(filepath, 'r') as file:\n",
    "        if header:\n",
    "            header_line = file.readline().strip()\n",
    "            header_data = header_line.split(',')\n",
    "        \n",
    "        for line in file:\n",
    "            values = line.strip().split(',')\n",
    "            # Преобразуем числовые значения из строк в числа\n",
    "            processed_values = []\n",
    "            for val in values:\n",
    "                try:\n",
    "                    # Пробуем преобразовать в число, если возможно\n",
    "                    if '.' in val:\n",
    "                        processed_values.append(float(val))\n",
    "                    else:\n",
    "                        processed_values.append(int(val))\n",
    "                except ValueError:\n",
    "                    # Если не число, оставляем как строку\n",
    "                    processed_values.append(val)\n",
    "            \n",
    "            data.append(processed_values)\n",
    "    \n",
    "    return {\"header\": header_data, \"data\": data}"
   ]
  },
  {
   "cell_type": "code",
   "execution_count": 18,
   "id": "f5a544c4",
   "metadata": {},
   "outputs": [
    {
     "data": {
      "text/plain": [
       "{'header': ['col_1', 'col_2', 'col_3'], 'data': [[1, 2, 3], [4, 5, 6]]}"
      ]
     },
     "execution_count": 18,
     "metadata": {},
     "output_type": "execute_result"
    }
   ],
   "source": [
    "load_csv_data(\"test.csv\", header=True)"
   ]
  },
  {
   "cell_type": "markdown",
   "id": "79e6dfad",
   "metadata": {},
   "source": [
    "**Функция для разделения данных:**"
   ]
  },
  {
   "cell_type": "code",
   "execution_count": 19,
   "id": "93ae6123",
   "metadata": {},
   "outputs": [],
   "source": [
    "def split_data(data, split_ratio=0.8):\n",
    "    \"\"\"\n",
    "    Разделяет данные на две части в соответствии с указанным соотношением.\n",
    "    \n",
    "    Parameters\n",
    "    ----------\n",
    "    data : list\n",
    "        Список данных для разделения.\n",
    "    split_ratio : float, optional\n",
    "        Коэффициент разделения, определяющий размер первой части \n",
    "        (от 0 до 1), по умолчанию 0.8.\n",
    "    \n",
    "    Returns\n",
    "    -------\n",
    "    list\n",
    "        Первая часть данных (размер = split_ratio * len(data)).\n",
    "    list\n",
    "        Вторая часть данных (оставшаяся часть).\n",
    "    \n",
    "    Raises\n",
    "    ------\n",
    "    ValueError\n",
    "        Если split_ratio не в диапазоне (0, 1).\n",
    "    \"\"\"\n",
    "    if split_ratio <= 0 or split_ratio >= 1:\n",
    "        raise ValueError(\"split_ratio должен быть в диапазоне (0, 1)\")\n",
    "    \n",
    "    # Определяем точку разделения\n",
    "    split_point = int(len(data) * split_ratio)\n",
    "    \n",
    "    # Разделяем данные\n",
    "    first_part = data[:split_point]\n",
    "    second_part = data[split_point:]\n",
    "    \n",
    "    return first_part, second_part"
   ]
  },
  {
   "cell_type": "code",
   "execution_count": 20,
   "id": "493e0cf4",
   "metadata": {},
   "outputs": [
    {
     "data": {
      "text/plain": [
       "([1, 2, 3, 4, 5, 6, 7, 8], [9, 10])"
      ]
     },
     "execution_count": 20,
     "metadata": {},
     "output_type": "execute_result"
    }
   ],
   "source": [
    "split_data([1, 2, 3, 4, 5, 6, 7, 8, 9, 10], split_ratio=0.8)"
   ]
  },
  {
   "cell_type": "markdown",
   "id": "0c97be83",
   "metadata": {},
   "source": [
    "**Тесты с использованием pytest:**"
   ]
  },
  {
   "cell_type": "code",
   "execution_count": null,
   "id": "72cbb79f",
   "metadata": {},
   "outputs": [],
   "source": [
    "\"\"\"\n",
    "Script: test_data.py\n",
    "\"\"\"\n",
    "\n",
    "import pytest\n",
    "import os\n",
    "import tempfile\n",
    "\n",
    "# Импортируем тестируемые функции\n",
    "# from src.data import load_csv_data, split_data\n",
    "\n",
    "# Тесты для функции загрузки CSV\n",
    "def test_load_csv_with_header():\n",
    "    # Создаем временный CSV файл для тестирования\n",
    "    with tempfile.NamedTemporaryFile(mode='w+', delete=False, suffix='.csv') as tmp:\n",
    "        tmp.write(\"name,age,score\\n\")\n",
    "        tmp.write(\"Alice,25,95.5\\n\")\n",
    "        tmp.write(\"Bob,30,85\\n\")\n",
    "        tmp_path = tmp.name\n",
    "    \n",
    "    try:\n",
    "        # Загружаем данные из созданного файла\n",
    "        result = load_csv_data(tmp_path, header=True)\n",
    "        \n",
    "        # Проверяем заголовок\n",
    "        assert result[\"header\"] == [\"name\", \"age\", \"score\"]\n",
    "        \n",
    "        # Проверяем данные\n",
    "        assert len(result[\"data\"]) == 2\n",
    "        assert result[\"data\"][0] == [\"Alice\", 25, 95.5]\n",
    "        assert result[\"data\"][1] == [\"Bob\", 30, 85]\n",
    "        \n",
    "    finally:\n",
    "        # Удаляем временный файл\n",
    "        os.unlink(tmp_path)\n",
    "\n",
    "def test_load_csv_without_header():\n",
    "    # Создаем временный CSV файл без заголовка\n",
    "    with tempfile.NamedTemporaryFile(mode='w+', delete=False, suffix='.csv') as tmp:\n",
    "        tmp.write(\"Alice,25,95.5\\n\")\n",
    "        tmp.write(\"Bob,30,85\\n\")\n",
    "        tmp_path = tmp.name\n",
    "    \n",
    "    try:\n",
    "        # Загружаем данные без заголовка\n",
    "        result = load_csv_data(tmp_path, header=False)\n",
    "        \n",
    "        # Проверяем, что заголовок None\n",
    "        assert result[\"header\"] is None\n",
    "        \n",
    "        # Проверяем данные\n",
    "        assert len(result[\"data\"]) == 2\n",
    "        assert result[\"data\"][0] == [\"Alice\", 25, 95.5]\n",
    "        assert result[\"data\"][1] == [\"Bob\", 30, 85]\n",
    "        \n",
    "    finally:\n",
    "        # Удаляем временный файл\n",
    "        os.unlink(tmp_path)\n",
    "\n",
    "def test_load_csv_empty_file():\n",
    "    # Создаем пустой CSV файл\n",
    "    with tempfile.NamedTemporaryFile(mode='w+', delete=False, suffix='.csv') as tmp:\n",
    "        tmp_path = tmp.name\n",
    "    \n",
    "    try:\n",
    "        # Загружаем данные из пустого файла\n",
    "        result = load_csv_data(tmp_path, header=False)\n",
    "        \n",
    "        # Проверяем, что данные пусты\n",
    "        assert result[\"header\"] is None\n",
    "        assert result[\"data\"] == []\n",
    "        \n",
    "    finally:\n",
    "        # Удаляем временный файл\n",
    "        os.unlink(tmp_path)\n",
    "\n",
    "# Тесты для функции разделения данных\n",
    "def test_split_data_even():\n",
    "    data = [1, 2, 3, 4, 5, 6, 7, 8, 9, 10]\n",
    "    \n",
    "    # Разделяем данные 80/20\n",
    "    first, second = split_data(data, split_ratio=0.8)\n",
    "    \n",
    "    assert len(first) == 8\n",
    "    assert len(second) == 2\n",
    "    assert first == [1, 2, 3, 4, 5, 6, 7, 8]\n",
    "    assert second == [9, 10]\n",
    "\n",
    "def test_split_data_odd():\n",
    "    data = [1, 2, 3, 4, 5]\n",
    "    \n",
    "    # Разделяем данные 60/40\n",
    "    first, second = split_data(data, split_ratio=0.6)\n",
    "    \n",
    "    assert len(first) == 3\n",
    "    assert len(second) == 2\n",
    "    assert first == [1, 2, 3]\n",
    "    assert second == [4, 5]\n",
    "\n",
    "def test_split_data_empty():\n",
    "    data = []\n",
    "    \n",
    "    # Разделяем пустой список\n",
    "    first, second = split_data(data, split_ratio=0.5)\n",
    "    \n",
    "    assert first == []\n",
    "    assert second == []\n",
    "\n",
    "def test_split_data_invalid_ratio():\n",
    "    data = [1, 2, 3, 4, 5]\n",
    "    \n",
    "    # Проверяем, что функция вызывает исключение при недопустимом split_ratio\n",
    "    with pytest.raises(ValueError):\n",
    "        split_data(data, split_ratio=0)\n",
    "    \n",
    "    with pytest.raises(ValueError):\n",
    "        split_data(data, split_ratio=1)\n",
    "    \n",
    "    with pytest.raises(ValueError):\n",
    "        split_data(data, split_ratio=1.5)"
   ]
  },
  {
   "cell_type": "markdown",
   "id": "5f84567f",
   "metadata": {},
   "source": [
    "**Ключевые особенности тестов:**\n",
    "\n",
    "1. **Тест для пустого файла** — проверка корректной обработки граничного случая\n",
    "2. **Использование временных файлов** — создаем временные CSV-файлы для тестирования функции загрузки\n",
    "3. **Проверка ошибок** — используем `pytest.raises` для проверки вызова исключений в некорректных случаях\n",
    "\n",
    "Эти примеры демонстрируют, как тестировать простые функции обработки данных, которые часто используются перед применением алгоритмов машинного обучения. Акцент сделан на проверке как основной функциональности, так и обработки граничных случаев."
   ]
  },
  {
   "cell_type": "markdown",
   "id": "9764f337",
   "metadata": {},
   "source": [
    "### 3.4 Запуск тестов и отчеты"
   ]
  },
  {
   "cell_type": "markdown",
   "id": "b29337f4",
   "metadata": {},
   "source": [
    "**Запуск pytest из командной строки:**\n",
    "\n",
    "```bash\n",
    "# Запуск всех тестов в текущем каталоге\n",
    "pytest\n",
    "\n",
    "# Запуск конкретного файла\n",
    "pytest tests/test_data.py\n",
    "\n",
    "# Запуск конкретной функции\n",
    "pytest tests/test_data.py::test_load_csv_without_header\n",
    "```"
   ]
  },
  {
   "cell_type": "markdown",
   "id": "4235d1af",
   "metadata": {},
   "source": [
    "**Полезные опции командной строки:**\n",
    "\n",
    "| Опция | Описание |\n",
    "|-------|----------|\n",
    "| `-v`, `--verbose` | Подробный вывод |\n",
    "| `-xvs` | Остановка при первой ошибке + подробный вывод + без захвата вывода |\n",
    "| `-k \"expression\"` | Запуск тестов, соответствующих выражению (например, `pytest -k \"accuracy\"`) |\n",
    "| `--tb=short` | Сокращенный traceback для ошибок |\n",
    "| `--cov=mypackage` | Измерение покрытия кода тестами (требует `pip install pytest-cov`) |"
   ]
  },
  {
   "cell_type": "markdown",
   "id": "9fa9dae5",
   "metadata": {},
   "source": [
    "**Отчет о покрытии кода тестами:**\n",
    "\n",
    "```bash\n",
    "pytest --cov=src tests\n",
    "```"
   ]
  },
  {
   "cell_type": "markdown",
   "id": "b0f00ca6",
   "metadata": {},
   "source": [
    "**Преимущества pytest для работы с ML-кодом:**\n",
    "\n",
    "1. **Читаемость** — тесты более компактные и понятные\n",
    "2. **Информативность ошибок** — подробные сообщения при сбоях \n",
    "3. **Расширяемость** — плагины для измерения скорости выполнения, coverage\n",
    "4. **Фикстуры** — удобны для подготовки тестовых данных и моделей\n",
    "5. **Параметризация** — можно легко проверить функцию на множестве наборов данных\n",
    "\n",
    "4 и 5 пункты разберем далее.\n",
    "\n",
    "pytest стал де-факто стандартом для тестирования в Python, и его использование особенно полезно в проектах по машинному обучению, где качество кода критически важно."
   ]
  },
  {
   "cell_type": "markdown",
   "id": "9adae167",
   "metadata": {},
   "source": [
    "## 4. Продвинутые возможности pytest"
   ]
  },
  {
   "cell_type": "markdown",
   "id": "1ae1283f",
   "metadata": {},
   "source": [
    "### 4.1 Fixtures и их использование"
   ]
  },
  {
   "cell_type": "markdown",
   "id": "c3cb1259",
   "metadata": {},
   "source": [
    "**Фикстуры (fixtures)** в pytest — это механизм для подготовки тестового окружения. Они значительно удобнее, чем `setUp`/`tearDown` в unittest, так как обладают гибкостью и могут быть переиспользованы между тестами.\n",
    "\n",
    "**Что такое фикстуры и зачем они нужны:**\n",
    "\n",
    "* Подготовка предварительных данных для тестов\n",
    "* Создание подключений к ресурсам (файлы, БД)\n",
    "* Настройка состояния перед выполнением теста\n",
    "* Очистка ресурсов после выполнения теста\n"
   ]
  },
  {
   "cell_type": "markdown",
   "id": "188a96ca",
   "metadata": {},
   "source": [
    "**Определение фикстуры:**"
   ]
  },
  {
   "cell_type": "code",
   "execution_count": null,
   "id": "a476a77e",
   "metadata": {},
   "outputs": [],
   "source": [
    "import pytest\n",
    "\n",
    "@pytest.fixture\n",
    "def sample_data():\n",
    "    \"\"\"Создает тестовый набор данных.\"\"\"\n",
    "    return [1, 2, 3, 4, 5]"
   ]
  },
  {
   "cell_type": "markdown",
   "id": "7813ba0c",
   "metadata": {},
   "source": [
    "**Использование фикстуры в тестах:**"
   ]
  },
  {
   "cell_type": "code",
   "execution_count": null,
   "id": "06ad0bcb",
   "metadata": {},
   "outputs": [],
   "source": [
    "def test_data_sum(sample_data):\n",
    "    assert sum(sample_data) == 15\n",
    "\n",
    "def test_data_length(sample_data):\n",
    "    assert len(sample_data) == 5"
   ]
  },
  {
   "cell_type": "markdown",
   "id": "2ca4e13a",
   "metadata": {},
   "source": [
    "**Пример фикстуры с настройкой и очисткой:**"
   ]
  },
  {
   "cell_type": "code",
   "execution_count": null,
   "id": "217caa1e",
   "metadata": {},
   "outputs": [],
   "source": [
    "\"\"\"\n",
    "Script: test_load_csv.py\n",
    "\"\"\"\n",
    "\n",
    "import pytest\n",
    "import os\n",
    "import tempfile\n",
    "\n",
    "# from src.data import load_csv_data\n",
    "\n",
    "@pytest.fixture\n",
    "def temp_csv_file():\n",
    "    \"\"\"Создает временный CSV файл и удаляет его после теста.\"\"\"\n",
    "    # Настройка: создаем файл\n",
    "    with tempfile.NamedTemporaryFile(mode='w+', delete=False, suffix='.csv') as tmp:\n",
    "        tmp.write(\"name,age,score\\n\")\n",
    "        tmp.write(\"Alice,25,95.5\\n\")\n",
    "        tmp.write(\"Bob,30,85\\n\")\n",
    "        tmp_path = tmp.name\n",
    "    \n",
    "    # Предоставляем ресурс тесту\n",
    "    yield tmp_path\n",
    "    \n",
    "    # Очистка: удаляем файл\n",
    "    os.unlink(tmp_path)\n",
    "\n",
    "def test_load_csv(temp_csv_file):\n",
    "    result = load_csv_data(temp_csv_file)\n",
    "    \n",
    "    assert result[\"header\"] == [\"name\", \"age\", \"score\"]\n",
    "    assert len(result[\"data\"]) == 2\n",
    "    assert result[\"data\"][0] == [\"Alice\", 25, 95.5]"
   ]
  },
  {
   "cell_type": "markdown",
   "id": "9134cf62",
   "metadata": {},
   "source": [
    "\n",
    "**Области видимости фикстур:**\n",
    "\n",
    "Фикстуры могут иметь разные области видимости (scope), которые определяют, как часто они выполняются:\n",
    "\n",
    "```python\n",
    "@pytest.fixture(scope=\"function\")  # По умолчанию - для каждой тестовой функции\n",
    "@pytest.fixture(scope=\"class\")     # Один раз для всех тестов в классе\n",
    "@pytest.fixture(scope=\"module\")    # Один раз для всех тестов в модуле\n",
    "@pytest.fixture(scope=\"session\")   # Один раз для всей тестовой сессии\n",
    "```\n",
    "\n",
    "**Пример фикстуры с областью видимости модуля:**"
   ]
  },
  {
   "cell_type": "code",
   "execution_count": null,
   "id": "8ea675e8",
   "metadata": {},
   "outputs": [],
   "source": [
    "\"\"\"\n",
    "Script: test_module_scope.py\n",
    "\"\"\"\n",
    "\n",
    "import pytest\n",
    "\n",
    "@pytest.fixture(scope=\"module\")\n",
    "def large_dataset():\n",
    "    \"\"\"Создает большой набор данных один раз для всех тестов в модуле.\"\"\"\n",
    "    print(\"Preparing large dataset...\") # Демонстрация, что код выполняется один раз\n",
    "    data = [i for i in range(1000)]\n",
    "    return data\n",
    "\n",
    "def test_dataset_sum(large_dataset):\n",
    "    assert sum(large_dataset) == 499500\n",
    "\n",
    "def test_dataset_first_elem(large_dataset):\n",
    "    assert large_dataset[0] == 0"
   ]
  },
  {
   "cell_type": "markdown",
   "id": "f19cadc9",
   "metadata": {},
   "source": [
    "### 4.2 Параметризация тестов"
   ]
  },
  {
   "cell_type": "markdown",
   "id": "884885a8",
   "metadata": {},
   "source": [
    "Параметризация позволяет запускать один и тот же тест с разными входными данными.\n",
    "\n",
    "**Базовый пример:**"
   ]
  },
  {
   "cell_type": "code",
   "execution_count": null,
   "id": "6f481452",
   "metadata": {},
   "outputs": [],
   "source": [
    "\"\"\"\n",
    "Script: test_parametrize.py\n",
    "\"\"\"\n",
    "\n",
    "import pytest\n",
    "\n",
    "def mean_value(data):\n",
    "    \"\"\"Возвращает среднее значение списка.\"\"\"\n",
    "    if not data:\n",
    "        return 0\n",
    "    return sum(data) / len(data)\n",
    "\n",
    "@pytest.mark.parametrize(\"input_data,expected\", [\n",
    "    ([1, 2, 3, 4], 2.5),\n",
    "    ([0, 0, 0, 0], 0),\n",
    "    ([5], 5),\n",
    "])\n",
    "def test_mean_value(input_data, expected):\n",
    "    \"\"\"Тестирует функцию среднего значения с разными входными данными.\"\"\"\n",
    "    assert mean_value(input_data) == expected"
   ]
  },
  {
   "cell_type": "markdown",
   "id": "20a05b47",
   "metadata": {},
   "source": [
    "Этот один тест будет запущен 3 раза с разными наборами параметров."
   ]
  },
  {
   "cell_type": "markdown",
   "id": "1ed9796b",
   "metadata": {},
   "source": [
    "**Параметризация с фикстурами:**\n",
    "\n"
   ]
  },
  {
   "cell_type": "code",
   "execution_count": null,
   "id": "da94630c",
   "metadata": {},
   "outputs": [],
   "source": [
    "\"\"\"\n",
    "Script: test_processor.py\n",
    "\"\"\"\n",
    "\n",
    "import pytest\n",
    "\n",
    "\n",
    "def process_value(processor, value):\n",
    "    \"\"\"\n",
    "    Применяет процессор к значению.\n",
    "    \n",
    "    Parameters\n",
    "    ----------\n",
    "    processor : dict\n",
    "        Словарь с параметрами процессора.\n",
    "    value : any\n",
    "        Значение для обработки.\n",
    "    \n",
    "    Returns\n",
    "    -------\n",
    "    any\n",
    "        Обработанное значение.\n",
    "    \"\"\"\n",
    "    processor_name = {\n",
    "        \"Multiplier\": lambda x: x * 2,\n",
    "        \"Adder\": lambda x: x + 1,\n",
    "    }\n",
    "\n",
    "    if processor[\"name\"] in processor_name:\n",
    "        return processor_name[processor[\"name\"]](value)\n",
    "    else:\n",
    "        raise ValueError(f\"Unknown processor: {processor['name']}\")\n",
    "\n",
    "@pytest.fixture\n",
    "def data_processor():\n",
    "    return {\"name\": \"Multiplier\"}\n",
    "\n",
    "@pytest.mark.parametrize(\"value,expected\", [\n",
    "    (2, 4),\n",
    "    (3, 6),\n",
    "    (5, 10),\n",
    "    (0, 0),\n",
    "    (-1, -2),\n",
    "])\n",
    "def test_processor_transform(data_processor, value, expected):\n",
    "    # Используем фикстуру + параметризацию\n",
    "    assert process_value(data_processor, value) == expected"
   ]
  },
  {
   "cell_type": "markdown",
   "id": "2851c312",
   "metadata": {},
   "source": [
    "**Несколько параметров в одном тесте:**\n"
   ]
  },
  {
   "cell_type": "code",
   "execution_count": null,
   "id": "637f719a",
   "metadata": {},
   "outputs": [],
   "source": [
    "\"\"\"\n",
    "Script: test_split_data.py\n",
    "\"\"\"\n",
    "\n",
    "import pytest\n",
    "\n",
    "# from src.data import split_data\n",
    "\n",
    "@pytest.mark.parametrize(\"split_ratio\", [0.1, 0.5, 0.9])\n",
    "@pytest.mark.parametrize(\"data_size\", [10, 100])\n",
    "def test_split_data_sizes(split_ratio, data_size):\n",
    "    \"\"\"Тестирует различные комбинации размеров данных и коэффициентов разделения.\"\"\"\n",
    "    data = list(range(data_size))\n",
    "    first, second = split_data(data, split_ratio)\n",
    "    \n",
    "    # Проверяем размеры разделенных данных\n",
    "    assert len(first) == int(data_size * split_ratio)\n",
    "    assert len(second) == data_size - int(data_size * split_ratio)"
   ]
  },
  {
   "cell_type": "markdown",
   "id": "cc42732b",
   "metadata": {},
   "source": [
    "Этот тест будет запущен с 6 комбинациями параметров (3 * 2)."
   ]
  },
  {
   "cell_type": "markdown",
   "id": "98572054",
   "metadata": {},
   "source": [
    "**Параметризация с идентификаторами:**\n"
   ]
  },
  {
   "cell_type": "code",
   "execution_count": null,
   "id": "84f2b8aa",
   "metadata": {},
   "outputs": [],
   "source": [
    "\"\"\"\n",
    "Script: test_with_ids.py\n",
    "\"\"\"\n",
    "\n",
    "import pytest\n",
    "\n",
    "\n",
    "@pytest.mark.parametrize(\"input_data,expected\", [\n",
    "    ([1, 2, 3, 4], 2.5),    # positive numbers\n",
    "    ([0, 0, 0, 0], 0),      # zeros\n",
    "    ([5], 5),               # single value\n",
    "], ids=[\"positive_numbers\", \"zeros\", \"single_value\"])\n",
    "def test_mean_with_ids(input_data, expected):\n",
    "    assert sum(input_data) / len(input_data) == expected"
   ]
  },
  {
   "cell_type": "markdown",
   "id": "4c2eda54",
   "metadata": {},
   "source": [
    "\n",
    "Идентификаторы (`ids`) делают вывод тестов более понятным:\n",
    "\n",
    "```\n",
    "test_mean_with_ids[positive_numbers] PASSED\n",
    "test_mean_with_ids[zeros] PASSED\n",
    "test_mean_with_ids[single_value] PASSED\n",
    "```\n"
   ]
  },
  {
   "cell_type": "markdown",
   "id": "947d52dc",
   "metadata": {},
   "source": [
    "### 4.3 Тестирование обработки исключений\n",
    "\n",
    "`pytest` позволяет легко проверять, что код вызывает ожидаемые исключения."
   ]
  },
  {
   "cell_type": "markdown",
   "id": "e66c84bf",
   "metadata": {},
   "source": [
    "**Проверка вызова ожидаемого исключения:**"
   ]
  },
  {
   "cell_type": "code",
   "execution_count": null,
   "id": "afa191b1",
   "metadata": {},
   "outputs": [],
   "source": [
    "def test_split_with_invalid_ratio():\n",
    "    with pytest.raises(ValueError):\n",
    "        split_data([1, 2, 3], split_ratio=1.5)"
   ]
  },
  {
   "cell_type": "markdown",
   "id": "60c283d6",
   "metadata": {},
   "source": [
    "**Проверка сообщения исключения:**\n"
   ]
  },
  {
   "cell_type": "code",
   "execution_count": null,
   "id": "a1112903",
   "metadata": {},
   "outputs": [],
   "source": [
    "def test_split_with_specific_error_message():\n",
    "    with pytest.raises(ValueError, match=\"должен быть в диапазоне\"):\n",
    "        split_data([1, 2, 3], split_ratio=1.5)"
   ]
  },
  {
   "cell_type": "markdown",
   "id": "7266fba0",
   "metadata": {},
   "source": [
    "**Проверка, что исключение НЕ вызывается:**\n"
   ]
  },
  {
   "cell_type": "code",
   "execution_count": null,
   "id": "817d6baa",
   "metadata": {},
   "outputs": [],
   "source": [
    "def test_split_with_valid_ratio():\n",
    "    try:\n",
    "        first, second = split_data([1, 2, 3, 4], split_ratio=0.5)\n",
    "        # Если дошли сюда, исключение не было вызвано\n",
    "    except ValueError:\n",
    "        pytest.fail(\"Неожиданное исключение ValueError\")"
   ]
  },
  {
   "cell_type": "markdown",
   "id": "b6a63f82",
   "metadata": {},
   "source": [
    "### 4.4 Пропуск тестов и условное выполнение\n"
   ]
  },
  {
   "cell_type": "markdown",
   "id": "519781a5",
   "metadata": {},
   "source": [
    "**Пропуск теста всегда:**"
   ]
  },
  {
   "cell_type": "code",
   "execution_count": null,
   "id": "7575b009",
   "metadata": {},
   "outputs": [],
   "source": [
    "@pytest.mark.skip(reason=\"Функционал еще не реализован\")\n",
    "def test_new_feature():\n",
    "    assert new_feature() == \"expected result\""
   ]
  },
  {
   "cell_type": "markdown",
   "id": "48e15254",
   "metadata": {},
   "source": [
    "**Пропуск теста при определенных условиях:**"
   ]
  },
  {
   "cell_type": "code",
   "execution_count": null,
   "id": "dff2a699",
   "metadata": {},
   "outputs": [],
   "source": [
    "@pytest.mark.skipif(sys.version_info != (3, 8), reason=\"Требуется Python 3.8\")\n",
    "def test_new_python_feature():\n",
    "    assert new_python_feature() == \"expected result\""
   ]
  },
  {
   "cell_type": "markdown",
   "id": "5e08dd51",
   "metadata": {},
   "source": [
    "**Отметка теста как \"ожидаемо падающего\":**"
   ]
  },
  {
   "cell_type": "code",
   "execution_count": null,
   "id": "8f7f2715",
   "metadata": {},
   "outputs": [],
   "source": [
    "@pytest.mark.xfail(reason=\"Известная проблема, будет исправлена в PR #123\")\n",
    "def test_known_issue():\n",
    "    assert problematic_function() == \"expected result\""
   ]
  },
  {
   "cell_type": "markdown",
   "id": "5e732be6",
   "metadata": {},
   "source": [
    "**Пропуск с проверкой зависимостей:**"
   ]
  },
  {
   "cell_type": "code",
   "execution_count": null,
   "id": "4422857e",
   "metadata": {},
   "outputs": [],
   "source": [
    "# Проверяем наличие модуля numpy\n",
    "numpy = pytest.importorskip(\"numpy\", reason=\"Тест требует numpy\")\n",
    "\n",
    "def test_with_numpy():\n",
    "    assert numpy.mean([1, 2, 3]) == 2"
   ]
  },
  {
   "cell_type": "markdown",
   "id": "8958b7a6",
   "metadata": {},
   "source": [
    "**Условное выполнение с помощью фикстур:**"
   ]
  },
  {
   "cell_type": "code",
   "execution_count": null,
   "id": "fac72af7",
   "metadata": {},
   "outputs": [],
   "source": [
    "@pytest.fixture(params=[\"small\", \"large\"])\n",
    "def dataset_type(request):\n",
    "    if request.param == \"large\" and \"fast\" in request.config.getoption(\"-k\"):\n",
    "        pytest.skip(\"Пропускаем большой набор данных при быстром запуске\")\n",
    "    return request.param\n",
    "\n",
    "def test_with_different_datasets(dataset_type):\n",
    "    if dataset_type == \"small\":\n",
    "        data = [1, 2, 3]\n",
    "    else:\n",
    "        data = list(range(1000))\n",
    "    \n",
    "    assert len(data) > 0"
   ]
  },
  {
   "cell_type": "markdown",
   "id": "2b49dc1a",
   "metadata": {},
   "source": [
    "**Практический пример использования продвинутых возможностей pytest:**"
   ]
  },
  {
   "cell_type": "code",
   "execution_count": null,
   "id": "c0312a4c",
   "metadata": {},
   "outputs": [],
   "source": [
    "\"\"\"\n",
    "Script: test_fixtures_and_parametrize.py\n",
    "\"\"\"\n",
    "\n",
    "\n",
    "import pytest\n",
    "import os\n",
    "import time\n",
    "import tempfile\n",
    "\n",
    "# from src.data import load_csv_data, split_data\n",
    "\n",
    "# Фикстура для создания временных файлов разных типов\n",
    "@pytest.fixture(params=[\n",
    "    {\"content\": \"name,age\\nAlice,25\\nBob,30\", \"has_header\": True},\n",
    "    {\"content\": \"Alice,25\\nBob,30\", \"has_header\": False},\n",
    "    {\"content\": \"\", \"has_header\": False}\n",
    "], ids=[\"with_header\", \"without_header\", \"empty\"])\n",
    "def csv_file(request):\n",
    "    \"\"\"Создает временный CSV файл с разным содержимым.\"\"\"\n",
    "    with tempfile.NamedTemporaryFile(mode='w+', delete=False, suffix='.csv') as tmp:\n",
    "        tmp.write(request.param[\"content\"])\n",
    "        tmp_path = tmp.name\n",
    "    \n",
    "    # Возвращаем путь к файлу и информацию о наличии заголовка\n",
    "    yield {\"path\": tmp_path, \"has_header\": request.param[\"has_header\"]}\n",
    "    \n",
    "    # Удаляем файл после теста\n",
    "    os.unlink(tmp_path)\n",
    "\n",
    "# Параметризированный тест для проверки различных коэффициентов разделения\n",
    "@pytest.mark.parametrize(\"ratio,expected_sizes\", [\n",
    "    (0.2, (2, 8)),\n",
    "    (0.5, (5, 5)),\n",
    "    (0.8, (8, 2)),\n",
    "])\n",
    "def test_split_data_ratios(ratio, expected_sizes):\n",
    "    data = list(range(10))\n",
    "    first, second = split_data(data, split_ratio=ratio)\n",
    "    \n",
    "    assert len(first) == expected_sizes[0]\n",
    "    assert len(second) == expected_sizes[1]\n",
    "\n",
    "# Тест использует фикстуру csv_file для проверки загрузки различных файлов\n",
    "def test_load_csv_various_files(csv_file):\n",
    "    result = load_csv_data(csv_file[\"path\"], header=csv_file[\"has_header\"])\n",
    "    \n",
    "    if csv_file[\"has_header\"]:\n",
    "        assert result[\"header\"] is not None\n",
    "    else:\n",
    "        assert result[\"header\"] is None\n",
    "    \n",
    "    # Пропускаем проверку данных для пустого файла\n",
    "    if os.path.getsize(csv_file[\"path\"]) == 0:\n",
    "        assert result[\"data\"] == []\n",
    "        return\n",
    "    \n",
    "    # Проверяем данные для непустых файлов\n",
    "    assert len(result[\"data\"]) > 0"
   ]
  },
  {
   "cell_type": "markdown",
   "id": "aa99a39b",
   "metadata": {},
   "source": [
    "\n",
    "**Преимущества продвинутых возможностей pytest:**\n",
    "\n",
    "1. **Фикстуры с различной областью видимости** позволяют оптимизировать подготовку тестового окружения\n",
    "2. **Параметризация** снижает дублирование кода в тестах\n",
    "3. **Гибкая обработка исключений** делает тесты более точными\n",
    "4. **Условное выполнение** помогает управлять временем выполнения тестов\n",
    "\n",
    "Эти продвинутые возможности особенно полезны в проектах машинного обучения, где требуется тестировать функции с различными наборами данных и в разных режимах работы."
   ]
  },
  {
   "cell_type": "markdown",
   "id": "d9b7ab2f",
   "metadata": {},
   "source": [
    "## 5. Практические примеры тестирования для ML-проектов"
   ]
  },
  {
   "cell_type": "markdown",
   "id": "a1819546",
   "metadata": {},
   "source": [
    "### 5.1 Тестирование функций очистки данных"
   ]
  },
  {
   "cell_type": "markdown",
   "id": "003a861e",
   "metadata": {},
   "source": [
    "Рассмотрим очень простую функцию для удаления пропущенных значений из списка:\n",
    "\n",
    "**Функция для тестирования:**"
   ]
  },
  {
   "cell_type": "code",
   "execution_count": null,
   "id": "7ed66429",
   "metadata": {},
   "outputs": [],
   "source": [
    "def remove_missing_values(data):\n",
    "    \"\"\"\n",
    "    Удаляет пропущенные значения (None) из списка.\n",
    "    \n",
    "    Parameters\n",
    "    ----------\n",
    "    data : list\n",
    "        Список, который может содержать None.\n",
    "        \n",
    "    Returns\n",
    "    -------\n",
    "    list\n",
    "        Список без None значений.\n",
    "    \"\"\"\n",
    "    return [x for x in data if x is not None]"
   ]
  },
  {
   "cell_type": "markdown",
   "id": "a18742f9",
   "metadata": {},
   "source": [
    "**Параметризованные тесты для этой функции:**"
   ]
  },
  {
   "cell_type": "code",
   "execution_count": null,
   "id": "16470223",
   "metadata": {},
   "outputs": [],
   "source": [
    "\"\"\"\n",
    "Script: test_remove_missing_values.py\n",
    "\"\"\"\n",
    "\n",
    "import pytest\n",
    "\n",
    "# from src.preprocessing import remove_missing_values\n",
    "\n",
    "@pytest.mark.parametrize(\"input_data,expected\", [\n",
    "    ([1, None, 3, None, 5], [1, 3, 5]),               # Базовый случай\n",
    "    ([1, 2, 3, 4], [1, 2, 3, 4]),                     # Без пропущенных значений\n",
    "    ([None, None, None], []),                          # Все значения пропущены\n",
    "    ([], []),                                          # Пустой список\n",
    "    ([None, 1, None, 2, None, 3, None], [1, 2, 3]),    # Чередующиеся значения\n",
    "])\n",
    "def test_remove_missing_values(input_data, expected):\n",
    "    result = remove_missing_values(input_data)\n",
    "    assert result == expected"
   ]
  },
  {
   "cell_type": "markdown",
   "id": "fd11cc37",
   "metadata": {},
   "source": [
    "### 5.2 Тестирование преобразователей данных\n",
    "\n",
    "Рассмотрим нашу простую функцию для нормализации данных:"
   ]
  },
  {
   "cell_type": "code",
   "execution_count": null,
   "id": "ec1cd2e3",
   "metadata": {},
   "outputs": [],
   "source": [
    "def min_max_normalize(data):\n",
    "    \"\"\"\n",
    "    Нормализует данные в диапазон [0, 1].\n",
    "    \n",
    "    Parameters\n",
    "    ----------\n",
    "    data : list\n",
    "        Список числовых значений.\n",
    "        \n",
    "    Returns\n",
    "    -------\n",
    "    list\n",
    "        Нормализованные значения.\n",
    "    \"\"\"\n",
    "    if not data:\n",
    "        return []\n",
    "        \n",
    "    min_val = min(data)\n",
    "    max_val = max(data)\n",
    "    \n",
    "    if min_val == max_val:\n",
    "        return [0.5] * len(data)  # Особый случай, когда все значения одинаковые\n",
    "        \n",
    "    return [(x - min_val) / (max_val - min_val) for x in data]"
   ]
  },
  {
   "cell_type": "markdown",
   "id": "3f284635",
   "metadata": {},
   "source": [
    "**Параметризованные тесты для этой функции:**"
   ]
  },
  {
   "cell_type": "code",
   "execution_count": null,
   "id": "8be8086c",
   "metadata": {},
   "outputs": [],
   "source": [
    "\"\"\"\n",
    "Script: test_normalization.py\n",
    "\"\"\"\n",
    "\n",
    "\n",
    "import pytest\n",
    "\n",
    "@pytest.mark.parametrize(\"input_data,expected_min,expected_max\", [\n",
    "    ([1, 2, 3, 4, 5], 0.0, 1.0),              # Положительные числа\n",
    "    ([-10, 0, 10], 0.0, 1.0),                 # Отрицательные и положительные\n",
    "    ([100, 200, 300], 0.0, 1.0),              # Большие числа\n",
    "])\n",
    "def test_min_max_normalize_bounds(input_data, expected_min, expected_max):\n",
    "    \"\"\"Проверяет, что после нормализации мин. значение = 0, макс. = 1.\"\"\"\n",
    "    normalized = min_max_normalize(input_data)\n",
    "    assert normalized[0] == expected_min  # Первое значение (минимальное)\n",
    "    assert normalized[-1] == expected_max  # Последнее значение (максимальное)\n",
    "\n",
    "\n",
    "@pytest.mark.parametrize(\"data,expected\", [\n",
    "    ([7, 7, 7], [0.5, 0.5, 0.5]),        # Одинаковые значения\n",
    "    ([], []),                             # Пустой список\n",
    "])\n",
    "def test_min_max_normalize_special_cases(data, expected):\n",
    "    \"\"\"Проверяет особые случаи нормализации.\"\"\"\n",
    "    normalized = min_max_normalize(data)\n",
    "    assert normalized == expected\n",
    "\n",
    "\n",
    "@pytest.mark.parametrize(\"data,position,expected\", [\n",
    "    ([0, 5, 10], 1, 0.5),                # Середина диапазона\n",
    "    ([10, 20, 30, 40], 1, 1/3),          # В первой трети диапазона\n",
    "    ([0, 10, 20, 30, 40], 2, 0.5),       # Ровно посередине\n",
    "])\n",
    "def test_min_max_normalize_values(data, position, expected):\n",
    "    \"\"\"Проверяет конкретные значения после нормализации.\"\"\"\n",
    "    normalized = min_max_normalize(data)\n",
    "    assert pytest.approx(normalized[position]) == expected"
   ]
  },
  {
   "cell_type": "markdown",
   "id": "54189787",
   "metadata": {},
   "source": [
    "### 5.3 Тестирование моделей\n",
    "\n",
    "Рассмотрим упрощенную \"модель\":"
   ]
  },
  {
   "cell_type": "markdown",
   "id": "a8f80fc5",
   "metadata": {},
   "source": [
    "**Класс для тестирования:**"
   ]
  },
  {
   "cell_type": "code",
   "execution_count": null,
   "id": "eaea86b4",
   "metadata": {},
   "outputs": [],
   "source": [
    "\"\"\"\n",
    "Script: models.py\n",
    "\"\"\"\n",
    "\n",
    "class MeanPredictor:\n",
    "    \"\"\"\n",
    "    Простейшая 'модель', которая предсказывает среднее значение из обучающей выборки.\n",
    "    \"\"\"\n",
    "    \n",
    "    def __init__(self):\n",
    "        \"\"\"Инициализация модели.\"\"\"\n",
    "        self.mean = None\n",
    "        self.is_fitted = False\n",
    "    \n",
    "    def fit(self, X, y):\n",
    "        \"\"\"\n",
    "        'Обучает' модель, вычисляя среднее значение y.\n",
    "        \n",
    "        Parameters\n",
    "        ----------\n",
    "        X : list\n",
    "            Признаки (не используются в этой модели).\n",
    "        y : list\n",
    "            Целевые значения.\n",
    "            \n",
    "        Returns\n",
    "        -------\n",
    "        self\n",
    "            Объект модели.\n",
    "        \"\"\"\n",
    "        if not y:\n",
    "            raise ValueError(\"y не может быть пустым\")\n",
    "            \n",
    "        self.mean = sum(y) / len(y)\n",
    "        self.is_fitted = True\n",
    "        return self\n",
    "\n",
    "    def predict(self, X):\n",
    "        \"\"\"\n",
    "        Предсказывает одно и то же значение (среднее) для всех примеров.\n",
    "        \n",
    "        Parameters\n",
    "        ----------\n",
    "        X : list\n",
    "            Признаки (не используются).\n",
    "            \n",
    "        Returns\n",
    "        -------\n",
    "        list\n",
    "            Предсказания - среднее значение для каждого примера.\n",
    "        \"\"\"\n",
    "        if not self.is_fitted:\n",
    "            raise ValueError(\"Модель не обучена. Сначала вызовите fit().\")\n",
    "            \n",
    "        return [self.mean] * len(X)"
   ]
  },
  {
   "cell_type": "markdown",
   "id": "5bd9feec",
   "metadata": {},
   "source": [
    "**Параметризованные тесты для этого класса:**"
   ]
  },
  {
   "cell_type": "code",
   "execution_count": null,
   "id": "44ccdc94",
   "metadata": {},
   "outputs": [],
   "source": [
    "\"\"\"\n",
    "Script: test_models.py\n",
    "\"\"\"\n",
    "\n",
    "\n",
    "import pytest\n",
    "\n",
    "@pytest.mark.parametrize(\"X,y,expected_mean\", [\n",
    "    ([1, 2, 3], [10, 20, 30], 20.0),                # Базовый случай\n",
    "    ([1, 2, 3], [5, 5, 5], 5.0),                    # Одинаковые значения\n",
    "    ([1, 2, 3], [0, 100], 50.0),                    # Разные размеры X и y\n",
    "    ([1], [42], 42.0),                              # Один элемент\n",
    "])\n",
    "def test_mean_predictor_fit(X, y, expected_mean):\n",
    "    \"\"\"Проверяет, что модель правильно вычисляет среднее значение.\"\"\"\n",
    "    model = MeanPredictor()\n",
    "    model.fit(X, y)\n",
    "    \n",
    "    assert model.mean == expected_mean\n",
    "    assert model.is_fitted == True\n",
    "\n",
    "@pytest.mark.parametrize(\"fit_X,fit_y,pred_X,expected_pred\", [\n",
    "    ([1, 2], [10, 20], [3, 4, 5], [15.0, 15.0, 15.0]),     # Базовый случай\n",
    "    ([1], [42], [1, 2, 3, 4], [42.0, 42.0, 42.0, 42.0]),   # Одно обучающее значение\n",
    "])\n",
    "def test_mean_predictor_predict(fit_X, fit_y, pred_X, expected_pred):\n",
    "    \"\"\"Проверяет, что модель корректно предсказывает средние значения.\"\"\"\n",
    "    model = MeanPredictor()\n",
    "    model.fit(fit_X, fit_y)\n",
    "    \n",
    "    predictions = model.predict(pred_X)\n",
    "    \n",
    "    assert predictions == expected_pred\n",
    "    assert len(predictions) == len(pred_X)\n",
    "\n",
    "@pytest.mark.parametrize(\"error_case\", [\"no_fit\", \"empty_y\"])\n",
    "def test_mean_predictor_errors(error_case):\n",
    "    \"\"\"Проверяет, что модель корректно обрабатывает ошибки.\"\"\"\n",
    "    model = MeanPredictor()\n",
    "    \n",
    "    if error_case == \"no_fit\":\n",
    "        # Тест на предсказание без обучения\n",
    "        with pytest.raises(ValueError, match=\"не обучена\"):\n",
    "            model.predict([1, 2, 3])\n",
    "    elif error_case == \"empty_y\":\n",
    "        # Тест на обучение с пустым y\n",
    "        with pytest.raises(ValueError, match=\"не может быть пустым\"):\n",
    "            model.fit([1, 2, 3], [])"
   ]
  },
  {
   "cell_type": "markdown",
   "id": "082abe22",
   "metadata": {},
   "source": [
    "Эти примеры показывают, как тестировать различные компоненты ML-системы с использованием очень простых функций и классов:\n",
    "\n",
    "1. **Функции очистки данных** - проверка удаления пропущенных значений\n",
    "2. **Преобразователи данных** - тестирование нормализации значений\n",
    "3. **Интерфейсы моделей** - проверка методов fit/predict и обработки ошибок"
   ]
  },
  {
   "cell_type": "markdown",
   "id": "34a6ce2d",
   "metadata": {},
   "source": [
    "## 6. Итоги занятия\n"
   ]
  },
  {
   "cell_type": "markdown",
   "id": "f7443099",
   "metadata": {},
   "source": [
    "В этом занятии мы познакомились с основами тестирования в Python и научились применять их для проверки кода машинного обучения. Давайте подведем итоги:\n",
    "\n",
    "### Что мы узнали:\n",
    "\n",
    "1. **Зачем нужны тесты**\n",
    "   * Тесты помогают убедиться, что код работает правильно и продолжает работать после изменений\n",
    "   * Тесты служат документацией, показывающей, как должен использоваться код\n",
    "   * В машинном обучении тесты особенно важны для проверки корректности обработки данных и работы моделей\n",
    "\n",
    "2. **Тестирование с unittest**\n",
    "   * Встроенная библиотека Python для тестирования\n",
    "   * Базируется на классах, наследуемых от `unittest.TestCase`\n",
    "   * Использует специальные методы проверки (`assertEqual`, `assertTrue` и т.д.)\n",
    "   * Методы `setUp` и `tearDown` помогают подготовить и очистить тестовое окружение\n",
    "\n",
    "3. **Тестирование с pytest**\n",
    "   * Более современный и удобный фреймворк для тестирования\n",
    "   * Использует обычные функции Python вместо классов\n",
    "   * Обычный оператор `assert` вместо специальных методов\n",
    "   * Лучшие сообщения об ошибках и возможности отладки\n",
    "\n",
    "4. **Продвинутые возможности pytest**\n",
    "   * **Фикстуры** — удобный способ подготовки тестового окружения с разными областями видимости\n",
    "   * **Параметризация** — запуск одного теста с разными входными данными\n",
    "   * **Проверка исключений** — тестирование корректной обработки ошибок\n",
    "   * **Условное выполнение** — пропуск тестов при определенных условиях\n",
    "\n",
    "5. **Практические примеры тестирования**\n",
    "   * Тестирование функций очистки данных\n",
    "   * Тестирование преобразователей данных \n",
    "   * Тестирование интерфейсов моделей\n"
   ]
  },
  {
   "cell_type": "markdown",
   "id": "c40a0207",
   "metadata": {},
   "source": [
    "### Ключевые принципы тестирования, которые стоит запомнить:\n",
    "\n",
    "* **Изоляция тестов** — каждый тест должен быть независимым от других\n",
    "* **Проверка граничных случаев** — тестируйте не только \"счастливый путь\", но и крайние ситуации\n",
    "* **Повторяемость** — тесты должны давать одинаковый результат при каждом запуске\n",
    "* **Параметризация** — используйте ее для тестирования множества входных данных без дублирования кода\n",
    "* **Разумные проверки** — не переусложняйте тесты, но убедитесь, что они проверяют нужное поведение\n"
   ]
  },
  {
   "cell_type": "markdown",
   "id": "2072585b",
   "metadata": {},
   "source": [
    "### Применение в ML-контексте:\n",
    "\n",
    "В машинном обучении особенно важно тестировать:\n",
    "* Корректность обработки данных (очистка, преобразование)\n",
    "* Правильную работу интерфейсов моделей (fit/predict)\n",
    "* Корректность функций оценки качества\n",
    "* Весь пайплайн обработки от загрузки данных до выдачи предсказаний\n",
    "\n",
    "Даже простые тесты могут выявить ошибки, которые трудно заметить при обычной отладке. Привычка писать тесты — одно из главных отличий профессионального разработчика от новичка.\n",
    "\n",
    "Практика написания тестов сделает ваш код более надежным и поможет вам стать лучшим разработчиком в области машинного обучения!"
   ]
  },
  {
   "cell_type": "markdown",
   "id": "f19725e6",
   "metadata": {},
   "source": [
    "## 7. Домашнее задание"
   ]
  },
  {
   "cell_type": "markdown",
   "id": "31034098",
   "metadata": {},
   "source": [
    "### Цель задания\n",
    "Научиться писать тесты для простых функций машинного обучения с использованием pytest и его возможностей параметризации.\n"
   ]
  },
  {
   "cell_type": "markdown",
   "id": "b88b324b",
   "metadata": {},
   "source": [
    "### Задание 1: Тестирование функции очистки данных"
   ]
  },
  {
   "cell_type": "markdown",
   "id": "a55c3ce2",
   "metadata": {},
   "source": [
    "**Дана функция:**"
   ]
  },
  {
   "cell_type": "code",
   "execution_count": null,
   "id": "f6228310",
   "metadata": {},
   "outputs": [],
   "source": [
    "def fill_missing_values(data, fill_value=0, missing_value=None):\n",
    "    \"\"\"\n",
    "    Заменяет пропущенные значения (None) на указанное значение.\n",
    "    \n",
    "    Parameters\n",
    "    ----------\n",
    "    data : list\n",
    "        Список значений, которые могут содержать пропущенные значения (None).\n",
    "    fill_value : any, optional\n",
    "        Значение для замены пропусков, по умолчанию 0.\n",
    "    missing_value : any, optional\n",
    "        Значение, которое считается пропуском. По умолчанию None.\n",
    "        \n",
    "    Returns\n",
    "    -------\n",
    "    list\n",
    "        Список со всеми замененными пропущенными значениями.\n",
    "    \"\"\"\n",
    "    if not data:\n",
    "        return []\n",
    "        \n",
    "    return [fill_value if x == missing_value else x for x in data]"
   ]
  },
  {
   "cell_type": "markdown",
   "id": "2c687dcf",
   "metadata": {},
   "source": [
    "**Задание:**\n",
    "1. Напишите параметризованный тест, проверяющий функцию на разных наборах данных (минимум 3 случая).\n",
    "2. Добавьте тест, проверяющий корректную обработку пустого списка.\n",
    "3. Напишите тест, проверяющий разные значения параметра `fill_value`.\n",
    "4. Добавьте тест, проверяющий разные значения параметра `missing_value` (например, не только `None`, но и другие значения, которые могут указывать на пропуски, как `-999` или `\"NA\"`).\n"
   ]
  },
  {
   "cell_type": "markdown",
   "id": "2dca00c5",
   "metadata": {},
   "source": [
    "### Задание 2: Тестирование класса преобразователя данных"
   ]
  },
  {
   "cell_type": "markdown",
   "id": "fe606e77",
   "metadata": {},
   "source": [
    "**Дан класс:**"
   ]
  },
  {
   "cell_type": "code",
   "execution_count": null,
   "id": "e776d402",
   "metadata": {},
   "outputs": [],
   "source": [
    "class MinMaxNormalizer:\n",
    "    \"\"\"\n",
    "    Нормализует данные в диапазон [0, 1] по формуле:\n",
    "    x_norm = (x - min) / (max - min)\n",
    "    \n",
    "    Attributes\n",
    "    ----------\n",
    "    min_ : float или None\n",
    "        Минимальное значение, найденное при fit.\n",
    "    max_ : float или None\n",
    "        Максимальное значение, найденное при fit.\n",
    "    \"\"\"\n",
    "    \n",
    "    def __init__(self):\n",
    "        \"\"\"Инициализирует объект нормализатора.\"\"\"\n",
    "        self.min_ = None\n",
    "        self.max_ = None\n",
    "        self.is_fitted = False\n",
    "    \n",
    "    def fit(self, data):\n",
    "        \"\"\"\n",
    "        Находит минимальное и максимальное значения в данных.\n",
    "        \n",
    "        Parameters\n",
    "        ----------\n",
    "        data : list\n",
    "            Список числовых значений.\n",
    "            \n",
    "        Returns\n",
    "        -------\n",
    "        self\n",
    "            Объект нормализатора.\n",
    "        \n",
    "        Raises\n",
    "        ------\n",
    "        ValueError\n",
    "            Если data пустой.\n",
    "        \"\"\"\n",
    "        if not data:\n",
    "            raise ValueError(\"data не может быть пустым\")\n",
    "            \n",
    "        self.min_ = min(data)\n",
    "        self.max_ = max(data)\n",
    "        self.is_fitted = True\n",
    "        return self\n",
    "    \n",
    "    def transform(self, data):\n",
    "        \"\"\"\n",
    "        Нормализует данные в диапазон [0, 1].\n",
    "        \n",
    "        Parameters\n",
    "        ----------\n",
    "        data : list\n",
    "            Список числовых значений.\n",
    "            \n",
    "        Returns\n",
    "        -------\n",
    "        list\n",
    "            Нормализованные данные.\n",
    "            \n",
    "        Raises\n",
    "        ------\n",
    "        ValueError\n",
    "            Если нормализатор не был обучен.\n",
    "        \"\"\"\n",
    "        if not self.is_fitted:\n",
    "            raise ValueError(\"Нормализатор не обучен. Сначала вызовите fit().\")\n",
    "            \n",
    "        # Если min=max, возвращаем список из 0.5 (середина диапазона)\n",
    "        if self.min_ == self.max_:\n",
    "            return [0.5] * len(data)\n",
    "            \n",
    "        return [(x - self.min_) / (self.max_ - self.min_) for x in data]\n",
    "    \n",
    "    def fit_transform(self, data):\n",
    "        \"\"\"\n",
    "        Обучает нормализатор и применяет его к данным.\n",
    "        \n",
    "        Parameters\n",
    "        ----------\n",
    "        data : list\n",
    "            Список числовых значений.\n",
    "            \n",
    "        Returns\n",
    "        -------\n",
    "        list\n",
    "            Нормализованные данные.\n",
    "        \"\"\"\n",
    "        return self.fit(data).transform(data)"
   ]
  },
  {
   "cell_type": "markdown",
   "id": "50fa1e54",
   "metadata": {},
   "source": [
    "**Задание:**\n",
    "1. Напишите тесты для проверки методов `fit`, `transform` и `fit_transform`.\n",
    "2. Используйте параметризацию для проверки разных наборов данных.\n",
    "3. Напишите тесты для проверки обработки исключений.\n",
    "4. Добавьте тест, проверяющий случай, когда все значения в данных одинаковые.\n"
   ]
  },
  {
   "cell_type": "markdown",
   "id": "5041bebc",
   "metadata": {},
   "source": [
    "### Пример тестирования простого класса"
   ]
  },
  {
   "cell_type": "markdown",
   "id": "d2a7e53f",
   "metadata": {},
   "source": [
    "**Дан класс SimpleMean:**"
   ]
  },
  {
   "cell_type": "code",
   "execution_count": null,
   "id": "f7dffb6b",
   "metadata": {},
   "outputs": [],
   "source": [
    "class SimpleMean:\n",
    "    \"\"\"\n",
    "    Простой класс, который вычисляет среднее значение данных.\n",
    "    \n",
    "    Attributes\n",
    "    ----------\n",
    "    mean_ : float или None\n",
    "        Среднее значение данных после вызова fit.\n",
    "    \"\"\"\n",
    "    \n",
    "    def __init__(self):\n",
    "        \"\"\"Инициализирует объект с неопределенным средним.\"\"\"\n",
    "        self.mean_ = None\n",
    "        \n",
    "    def fit(self, data):\n",
    "        \"\"\"\n",
    "        Вычисляет среднее значение данных.\n",
    "        \n",
    "        Parameters\n",
    "        ----------\n",
    "        data : list\n",
    "            Список числовых значений.\n",
    "            \n",
    "        Returns\n",
    "        -------\n",
    "        self\n",
    "            Объект SimpleMean.\n",
    "            \n",
    "        Raises\n",
    "        ------\n",
    "        ValueError\n",
    "            Если список data пустой.\n",
    "        \"\"\"\n",
    "        if not data:\n",
    "            raise ValueError(\"Список данных не может быть пустым\")\n",
    "            \n",
    "        self.mean_ = sum(data) / len(data)\n",
    "        return self"
   ]
  },
  {
   "cell_type": "markdown",
   "id": "8f00cc0d",
   "metadata": {},
   "source": [
    "**Тесты для класса**"
   ]
  },
  {
   "cell_type": "code",
   "execution_count": null,
   "id": "390251b3",
   "metadata": {},
   "outputs": [],
   "source": [
    "import pytest\n",
    "\n",
    "# Импортируем наш класс\n",
    "from src.simple_mean import SimpleMean  # Предполагается, что класс в файле src/simple_mean.py\n",
    "\n",
    "# Тест для проверки вычисления среднего значения\n",
    "def test_simple_mean_fit_basic():\n",
    "    # Создаем объект класса\n",
    "    calculator = SimpleMean()\n",
    "    \n",
    "    # Вызываем метод fit\n",
    "    calculator.fit([1, 2, 3, 4, 5])\n",
    "    \n",
    "    # Проверяем, что среднее вычислено правильно\n",
    "    assert calculator.mean_ == 3.0\n",
    "\n",
    "# Тест для проверки метода fit с разными данными\n",
    "@pytest.mark.parametrize(\"data,expected_mean\", [\n",
    "    ([1, 2, 3, 4, 5], 3.0),           # Целые числа\n",
    "    ([0.5, 1.5, 2.5], 1.5),           # Дробные числа\n",
    "    ([-10, -5, 0, 5, 10], 0.0),       # Положительные и отрицательные\n",
    "    ([100], 100.0),                   # Один элемент\n",
    "])\n",
    "def test_simple_mean_fit_with_different_data(data, expected_mean):\n",
    "    calculator = SimpleMean()\n",
    "    calculator.fit(data)\n",
    "    \n",
    "    # Для чисел с плавающей точкой используем pytest.approx\n",
    "    assert calculator.mean_ == pytest.approx(expected_mean)\n",
    "\n",
    "# Тест для проверки возвращаемого значения (проверяем цепочку вызовов)\n",
    "def test_simple_mean_fit_returns_self():\n",
    "    calculator = SimpleMean()\n",
    "    result = calculator.fit([1, 2, 3])\n",
    "    \n",
    "    # Проверяем, что fit возвращает сам объект\n",
    "    assert result is calculator\n",
    "\n",
    "# Тест для проверки обработки ошибки - пустой список\n",
    "def test_simple_mean_fit_empty_list():\n",
    "    calculator = SimpleMean()\n",
    "    \n",
    "    # Проверяем, что вызывается исключение с правильным сообщением\n",
    "    with pytest.raises(ValueError, match=\"не может быть пустым\"):\n",
    "        calculator.fit([])\n",
    "\n",
    "# Использование фикстуры для создания объекта класса\n",
    "@pytest.fixture\n",
    "def calculator():\n",
    "    \"\"\"Фикстура, создающая объект SimpleMean.\"\"\"\n",
    "    return SimpleMean()\n",
    "\n",
    "# Тест, использующий фикстуру\n",
    "def test_simple_mean_with_fixture(calculator):\n",
    "    calculator.fit([10, 20, 30, 40])\n",
    "    assert calculator.mean_ == 25.0"
   ]
  },
  {
   "cell_type": "markdown",
   "id": "2a0997e3",
   "metadata": {},
   "source": [
    "**Объяснение тестов**\n",
    "\n",
    "1. **Базовый тест**: `test_simple_mean_fit_basic` - проверяет, что среднее значение вычисляется корректно на простом примере.\n",
    "\n",
    "2. **Параметризованный тест**: `test_simple_mean_fit_with_different_data` - проверяет вычисление среднего на разных наборах данных без дублирования кода.\n",
    "\n",
    "3. **Тест возвращаемого значения**: `test_simple_mean_fit_returns_self` - проверяет, что метод `fit` возвращает сам объект, что важно для цепочки вызовов.\n",
    "\n",
    "4. **Тест обработки ошибок**: `test_simple_mean_fit_empty_list` - проверяет, что метод корректно обрабатывает пустой список.\n",
    "\n",
    "5. **Использование фикстуры**: `test_simple_mean_with_fixture` - демонстрирует использование фикстуры для создания объекта класса."
   ]
  },
  {
   "cell_type": "markdown",
   "id": "85bc5573",
   "metadata": {},
   "source": [
    "### Задание 3: Тестирование функции оценки качества"
   ]
  },
  {
   "cell_type": "markdown",
   "id": "fadb9aab",
   "metadata": {},
   "source": [
    "**Дана функция:**\n"
   ]
  },
  {
   "cell_type": "code",
   "execution_count": null,
   "id": "12bb0957",
   "metadata": {},
   "outputs": [],
   "source": [
    "def accuracy_score(y_true, y_pred):\n",
    "    \"\"\"\n",
    "    Вычисляет точность классификации - долю правильных предсказаний.\n",
    "    \n",
    "    Parameters\n",
    "    ----------\n",
    "    y_true : list\n",
    "        Истинные метки классов.\n",
    "    y_pred : list\n",
    "        Предсказанные метки классов.\n",
    "        \n",
    "    Returns\n",
    "    -------\n",
    "    float\n",
    "        Доля правильных предсказаний (от 0 до 1).\n",
    "        \n",
    "    Raises\n",
    "    ------\n",
    "    ValueError\n",
    "        Если длины списков не совпадают или списки пусты.\n",
    "    \"\"\"\n",
    "    if len(y_true) != len(y_pred):\n",
    "        raise ValueError(\"y_true и y_pred должны иметь одинаковую длину\")\n",
    "        \n",
    "    if not y_true:\n",
    "        raise ValueError(\"Списки не могут быть пустыми\")\n",
    "    \n",
    "    # Число правильных предсказаний\n",
    "    correct = sum(1 for true, pred in zip(y_true, y_pred) if true == pred)\n",
    "    \n",
    "    # Точность - доля правильных предсказаний\n",
    "    return correct / len(y_true)"
   ]
  },
  {
   "cell_type": "markdown",
   "id": "041fbf4e",
   "metadata": {},
   "source": [
    "**Задание:**\n",
    "1. Напишите параметризованный тест, проверяющий расчет точности на разных наборах данных.\n",
    "2. Добавьте тест для идеальных предсказаний (точность = 1.0).\n",
    "3. Добавьте тест для полностью неверных предсказаний (точность = 0.0).\n",
    "4. Проверьте корректность обработки ошибок при неправильных входных данных."
   ]
  },
  {
   "cell_type": "markdown",
   "id": "0ead28dc",
   "metadata": {},
   "source": [
    "---"
   ]
  },
  {
   "cell_type": "markdown",
   "id": "4ba7090b",
   "metadata": {},
   "source": [
    "**Требования к выполнению:**\n",
    "- Все тесты должны быть написаны с использованием pytest\n",
    "- Используйте параметризацию для проверки разных случаев\n",
    "- Применяйте фикстуры, где это уместно\n",
    "- Проверяйте как положительные, так и отрицательные сценарии\n",
    "- Обеспечьте высокую читаемость тестов (говорящие имена, комментарии)\n",
    "\n",
    "**Полезные советы:**\n",
    "- Начните с простых тестов и постепенно усложняйте их\n",
    "- Не забывайте проверять граничные случаи\n",
    "- Запускайте тесты на разных этапах разработки для проверки\n",
    "\n",
    "**Критерии оценки - проверяем себя самостоятельно!**\n",
    "- Корректность тестов (проверяют нужное поведение)\n",
    "- Полнота покрытия (все важные случаи рассмотрены)\n",
    "- Использование функций pytest (параметризация, фикстуры)\n",
    "- Качество кода (структура, читаемость)\n",
    "\n",
    "Удачи в выполнении задания! Тестирование — это важный навык, который поможет вам писать более надежный код для проектов машинного обучения."
   ]
  }
 ],
 "metadata": {
  "kernelspec": {
   "display_name": ".venv (3.11.12)",
   "language": "python",
   "name": "python3"
  },
  "language_info": {
   "codemirror_mode": {
    "name": "ipython",
    "version": 3
   },
   "file_extension": ".py",
   "mimetype": "text/x-python",
   "name": "python",
   "nbconvert_exporter": "python",
   "pygments_lexer": "ipython3",
   "version": "3.11.12"
  }
 },
 "nbformat": 4,
 "nbformat_minor": 5
}
